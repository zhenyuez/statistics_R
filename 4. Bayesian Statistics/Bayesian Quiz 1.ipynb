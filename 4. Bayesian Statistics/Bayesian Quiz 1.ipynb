{
 "cells": [
  {
   "cell_type": "markdown",
   "metadata": {},
   "source": [
    "Problem 1. \n",
    "\n",
    "You draw two balls from one of three possible large urns, labelled A, B, and C. Urn A has 1/2 blue balls, 1/3 green balls, and 1/6 red balls. Urn B has 1/6 blue balls, 1/2 green balls, and 1/3 red balls. Urn C has 1/3 blue balls, 1/6 green balls, and 1/2 red balls. With no prior information about which urn your are drawing from, you draw one red ball and one blue ball. What is the probability that you drew from urn C?\n",
    "\n",
    "(A) 1/3\n",
    "\n",
    "(B) 19/36\n",
    "\n",
    "(C) 5/9\n",
    "\n",
    "(D) 6/11"
   ]
  },
  {
   "cell_type": "code",
   "execution_count": 5,
   "metadata": {
    "collapsed": false
   },
   "outputs": [],
   "source": [
    "P_B_Ua<-1/2 # Blue bal in Urn A\n",
    "P_G_Ua<-1/3 \n",
    "P_R_Ua<-1/6\n",
    "P_B_Ub<-1/6 # Blue bal in Urn B\n",
    "P_G_Ub<-1/2 \n",
    "P_R_Ub<-1/3\n",
    "P_B_Uc<-1/3 # Blue bal in Urn C\n",
    "P_G_Uc<-1/6 \n",
    "P_R_Uc<-1/2"
   ]
  },
  {
   "cell_type": "code",
   "execution_count": 10,
   "metadata": {
    "collapsed": false
   },
   "outputs": [
    {
     "data": {
      "text/html": [
       "0.545454545454545"
      ],
      "text/latex": [
       "0.545454545454545"
      ],
      "text/markdown": [
       "0.545454545454545"
      ],
      "text/plain": [
       "[1] 0.5454545"
      ]
     },
     "metadata": {},
     "output_type": "display_data"
    },
    {
     "data": {
      "text/html": [
       "0.545454545454545"
      ],
      "text/latex": [
       "0.545454545454545"
      ],
      "text/markdown": [
       "0.545454545454545"
      ],
      "text/plain": [
       "[1] 0.5454545"
      ]
     },
     "metadata": {},
     "output_type": "display_data"
    }
   ],
   "source": [
    "#P_Uc_data<-P_data_Uc*P_Uc/sum(P_data_Ui*P_Ui) # Ui is the Ua, Ub, Uc\n",
    "#P_Uc=1/3, P(R|Uc)=1/2, P(B|Uc)=1/3, etc...\n",
    "P_Uc_data<-(1/3*1/2)*(1/3)/((1/3*1/2)*(1/3)+1/2*1/6*1/3+1/3*1/6*1/3) \n",
    "P_Uc_data\n",
    "6/11 #choose D"
   ]
  },
  {
   "cell_type": "markdown",
   "metadata": {},
   "source": [
    "Problem 1:\n",
    "\n",
    "A New York City cab was involved in a hit-and-run accident last night. Five witnesses reported the incident, four of whom said that the cab was green and one of whom said that the cab was yellow. Assume each witness correctly identifies the color of a cab with probability 2/3. It is known that 85% of registered cabs in New York City are yellow and 15% are green. Based on this information, what is the probability that the cab was green?\n",
    "\n",
    "58.5%\n",
    "\n",
    "41.5%\n",
    "\n",
    "88.9%\n",
    "\n",
    "15.0%"
   ]
  },
  {
   "cell_type": "code",
   "execution_count": 2,
   "metadata": {
    "collapsed": false
   },
   "outputs": [
    {
     "data": {
      "text/html": [
       "0.585365853658537"
      ],
      "text/latex": [
       "0.585365853658537"
      ],
      "text/markdown": [
       "0.585365853658537"
      ],
      "text/plain": [
       "[1] 0.5853659"
      ]
     },
     "metadata": {},
     "output_type": "display_data"
    }
   ],
   "source": [
    "# P(G)=0.15, P(Y)=0.85, data=4G-1Y\n",
    "# P(data|G)=(2/3)^4*1/3\n",
    "# P(data|Y)=(1/3)^4*2/3\n",
    "(2/3)^4*1/3*0.15/((2/3)^4*1/3*0.15 + (1/3)^4*2/3*0.85) # choose A"
   ]
  },
  {
   "cell_type": "markdown",
   "metadata": {},
   "source": [
    "Problem 2. \n",
    "\n",
    "Suppose ten people are sampled from the population and their heights are recorded. Further suppose their heights are distributed normally, with unknown mean μ and unknown variance σ2 . Which of the following statements best describes the likelihood of the data Y in this situation?\n",
    "\n",
    "A. The probability of observing the data, given μ , σ2, and the prior.\n",
    "\n",
    "B. The probability of observing heights with a mean at least as extreme as Y¯ , given μ and σ2.\n",
    "\n",
    "C. The probability of observing the data, given μ, σ2.\n",
    "\n",
    "D. The probability of observing the data, given the prior beliefs about the distribution of μ and σ2 ."
   ]
  },
  {
   "cell_type": "code",
   "execution_count": null,
   "metadata": {
    "collapsed": true
   },
   "outputs": [],
   "source": [
    "# Choose C"
   ]
  },
  {
   "cell_type": "markdown",
   "metadata": {},
   "source": [
    "Problem 3: \n",
    "\n",
    "Recall the probability distribution of a Poisson random variable X:\n",
    "P(X=x)=λ^xe^(−λ)/x!\n",
    "where λ is the rate parameter that equals the expected value of X .\n",
    "\n",
    "John is analyzing traffic patterns on a country road. He believes that the number of cars that come during a given hour follows a Poisson distribution with rate λ. Further, he believes that either λ = 1 , λ = 2 , or λ = 4 and assigns equiprobable beliefs to each of the possible values of λ. He observes traffic for one hour and records a total of three cars passing.\n",
    "\n",
    "Consider the following hypotheses:\n",
    "\n",
    "H0: λ < 2\n",
    "\n",
    "H1: λ = 2\n",
    "\n",
    "H2: λ > 2\n",
    "\n",
    "Which of the hypotheses has the greatest posterior probability?\n",
    "\n",
    "A. H2\n",
    "\n",
    "B. H1\n",
    "\n",
    "C. H0"
   ]
  },
  {
   "cell_type": "code",
   "execution_count": 12,
   "metadata": {
    "collapsed": false
   },
   "outputs": [
    {
     "data": {
      "text/html": [
       "<ol class=list-inline>\n",
       "\t<li>0.140264102340199</li>\n",
       "\t<li>0.412802236682612</li>\n",
       "\t<li>0.446933660977188</li>\n",
       "</ol>\n"
      ],
      "text/latex": [
       "\\begin{enumerate*}\n",
       "\\item 0.140264102340199\n",
       "\\item 0.412802236682612\n",
       "\\item 0.446933660977188\n",
       "\\end{enumerate*}\n"
      ],
      "text/markdown": [
       "1. 0.140264102340199\n",
       "2. 0.412802236682612\n",
       "3. 0.446933660977188\n",
       "\n",
       "\n"
      ],
      "text/plain": [
       "[1] 0.1402641 0.4128022 0.4469337"
      ]
     },
     "metadata": {},
     "output_type": "display_data"
    }
   ],
   "source": [
    "#model   l=1, l=2, l=4\n",
    "#P_M     1/3, 1/3, 1/3\n",
    "#P(D|M)  dpois(x=3,lambda = 1), dpois(x=3,lambda = 2), dpois(x=3,lambda = 4)\n",
    "numerator<-c(dpois(x=3,lambda = 1), dpois(x=3,lambda = 2), dpois(x=3,lambda = 4))\n",
    "denominator<-sum(numerator)\n",
    "numerator/denominator"
   ]
  },
  {
   "cell_type": "code",
   "execution_count": null,
   "metadata": {
    "collapsed": true
   },
   "outputs": [],
   "source": [
    "#model with lambda=4 has the highest probability\n",
    "# choose H2 (A)"
   ]
  },
  {
   "cell_type": "markdown",
   "metadata": {},
   "source": [
    "Problem 3:\n",
    "\n",
    "You go to Las Vegas and sit down at a slot machine. You are told by a highly reliable source that, for each spin, the probability of hitting the jackpot is either 1 in 1,000 or 1 in 1,000,000, but you have no prior information to tell you which of the two it is. You play ten times, but do not win the jackpot. What is the posterior probability that the true odds of hitting the jackpot are 1 in 1,000?\n",
    "\n",
    "A. 0.269\n",
    "\n",
    "B. 0.475\n",
    "\n",
    "C. 0.498\n",
    "\n",
    "D. 0.500"
   ]
  },
  {
   "cell_type": "code",
   "execution_count": 8,
   "metadata": {
    "collapsed": false
   },
   "outputs": [
    {
     "data": {
      "text/html": [
       "<ol class=list-inline>\n",
       "\t<li>0.497501269969203</li>\n",
       "\t<li>0.502498730030797</li>\n",
       "</ol>\n"
      ],
      "text/latex": [
       "\\begin{enumerate*}\n",
       "\\item 0.497501269969203\n",
       "\\item 0.502498730030797\n",
       "\\end{enumerate*}\n"
      ],
      "text/markdown": [
       "1. 0.497501269969203\n",
       "2. 0.502498730030797\n",
       "\n",
       "\n"
      ],
      "text/plain": [
       "[1] 0.4975013 0.5024987"
      ]
     },
     "metadata": {},
     "output_type": "display_data"
    }
   ],
   "source": [
    "# model     p=10^-3   p=10^-6\n",
    "# P(model)   0.5      0.5\n",
    "#P(data|M)   dbinom(0,10,10^-3) dbinom(0,10,10^-6)\n",
    "num<-c(dbinom(0,10,10^-3), dbinom(0,10,10^-6))\n",
    "denom<-sum(num)\n",
    "num/denom\n",
    "# choose C p=0.498"
   ]
  },
  {
   "cell_type": "markdown",
   "metadata": {},
   "source": [
    "Problem 4: \n",
    "\n",
    "Suppose you are given a coin and told that it is either a fair coin or a trick coin. You do not know whether the coin is fair (p = 0.5) or whether it always comes up heads (p = 1) and assign an initial prior probability q that your coin is a trick coin. In terms of q and assuming q < 0.95, how many heads in a row N need to come up for the posterior probability of a trick coin to be greater than 0.95?\n",
    "\n",
    "A. N>−log2(q/(19(1−q)))\n",
    "\n",
    "B. N>−log2(q/(20(1−q)))\n",
    "\n",
    "C. N>−log2((1−q)/20q)\n",
    "\n",
    "D. N>−log2((1−q)/19q)"
   ]
  },
  {
   "cell_type": "code",
   "execution_count": 13,
   "metadata": {
    "collapsed": true
   },
   "outputs": [],
   "source": [
    "# Model         p=0.5, p=1\n",
    "# P_M           1-q,   q\n",
    "# P(data|M)    dbinom(N,N,p=0.5) dbinom(N,N,p=1)\n",
    "# q/((1-q)*0.5^N+q)>0.95\n",
    "# Solve and N>log_2(19(1-q)/q)=-log_2(q/(19(1-q)))\n",
    "# choose A "
   ]
  },
  {
   "cell_type": "markdown",
   "metadata": {},
   "source": [
    "Problem 5: \n",
    "\n",
    "Which of the following corresponds to a Bayesian interpretation of the statement “the probability of Liverpool defeating Swansea City tomorrow is 90 percent”?\n",
    "\n",
    "A. We would be indifferent to betting on Liverpool to win at 1:9 odds.\n",
    "\n",
    "B. Liverpool would beat Swansea City nine times out of ten.\n",
    "\n",
    "C. Liverpool is a heavy favorite to beat Swansea City.\n",
    "\n",
    "D. Teams as good as Liverpool have historically beaten teams as good as Swansea City 90 percent of the time."
   ]
  },
  {
   "cell_type": "code",
   "execution_count": 14,
   "metadata": {
    "collapsed": true
   },
   "outputs": [],
   "source": [
    "# choose A"
   ]
  },
  {
   "cell_type": "markdown",
   "metadata": {},
   "source": [
    "Problem 6: \n",
    "\n",
    "Sander runs a controlled experiment to test the hypothesis that rats treated with 10 mg of Vitamin A have higher mortality rates than rats not given Vitamin A. After every death, he checks to see whether the p-value under the null hypothesis of no difference is below 0.05. If the p-value is greater than 0.05, he keeps collecting data. Otherwise, he stops collecting data and reports his results. If, after 10,000 deaths, he does not get significant results, he stops. Under a Bayesian framework, what is the problem with Sander’s experimental design?\n",
    "\n",
    "A. Sander excluded the possibility of getting a p-value larger than 0.05 by stopping the experiment prematurely\n",
    "\n",
    "B. The posterior distribution will be biased, since Sander was intent on getting a specific result before the experiment began\n",
    "\n",
    "C. There is no problem with Sander’s design; the posterior only depends on the entirety of the data and the prior beliefs before the experiment.\n",
    "\n",
    "D. By making a stopping rule that was dependent on his results, he made it more probable that he would get results suggesting Vitamin A increases rat mortality rates."
   ]
  },
  {
   "cell_type": "code",
   "execution_count": 15,
   "metadata": {
    "collapsed": true
   },
   "outputs": [],
   "source": [
    "# choose C"
   ]
  },
  {
   "cell_type": "markdown",
   "metadata": {},
   "source": [
    "Problem 6:\n",
    "\n",
    "Which of the following statements can be used to describe a 95 percent Bayesian credible interval for a parameter μ, but not a 95 percent Frequentist confidence interval?\n",
    "\n",
    "A. μ is in this interval 95 percent of the time.\n",
    "\n",
    "B. If we ran an infinite number of experiments, 95 percent of our intervals generated this way would contain the true value of μ .\n",
    "\n",
    "C. μ is either in the interval, or it is not. More data can increase or decrease our uncertainty that μ is in the interval.\n",
    "\n",
    "D. The probability that μ falls within the interval is .95"
   ]
  },
  {
   "cell_type": "code",
   "execution_count": null,
   "metadata": {
    "collapsed": true
   },
   "outputs": [],
   "source": [
    "# choose D"
   ]
  },
  {
   "cell_type": "markdown",
   "metadata": {},
   "source": [
    "Problem 7. \n",
    "\n",
    "A new breast cancer screening method is tested to see if it performs better than existing methods in detecting breast cancer. To measure the sensitivity of the test, a total of 10,000 patients known to have various stages of breast cancer are testing using the new method. Of those 10,000 patients, 9,942 are diagnosed by the new method to have breast cancer. Given that the best current methods have 99.3% sensitivity, is there significant evidence at the α=0.05 level to conclude that the new method has higher sensitivity than existing methods? Hint - H0:p≤0.993 and H1:p>.993\n",
    "\n",
    "A. No, since the p-value under H0 of no difference is approximately equal to 0.081, which is greater than α=0.05\n",
    "\n",
    "B. Yes, since the p-value under H0 of no difference is approximately equal to 0.048, which is less than α=0.05\n",
    "\n",
    "C. Yes, since the p-value under H0 of no difference is approximately equal to 0.033, which is less than α=0.05\n",
    "\n",
    "D. No, since the p-value under H0 of no difference is approximately equal to 0.063, which is greater than α=0.05"
   ]
  },
  {
   "cell_type": "code",
   "execution_count": 4,
   "metadata": {
    "collapsed": false
   },
   "outputs": [
    {
     "data": {
      "text/html": [
       "0.0808555984659798"
      ],
      "text/latex": [
       "0.0808555984659798"
      ],
      "text/markdown": [
       "0.0808555984659798"
      ],
      "text/plain": [
       "[1] 0.0808556"
      ]
     },
     "metadata": {},
     "output_type": "display_data"
    }
   ],
   "source": [
    "p_value<-1-pbinom(9942-1,10000,0.993)\n",
    "p_value\n",
    "\n",
    "# choose A"
   ]
  },
  {
   "cell_type": "markdown",
   "metadata": {},
   "source": [
    "Problem 7.\n",
    "\n",
    "Hearing about your brilliant success in working with M&Ms, Mars Inc. transfers you over to the Skittles department. They recently have had complaints about tropical Skittles being mixed in with original Skittles. You decide to conduct a frequentist analysis. Although you are confident that the quality control measures result in less than 1% of all regular Skittles accidentally being tropical Skittles, you understand that things need to change if the complaints are true, so you set the significance level α=0.1. Randomly sampling 300 supposedly original Skittles, you find that five of them are tropical. What are your findings? Hint- H0:p≤0.01 and H1:p>0.01.\n",
    "\n",
    "A. Reject H0, since the p-value is equal to 0.027, which is less than α=0.1\n",
    "\n",
    "B. Fail to reject H0, since the p-value is equal to 0.184, which is greater than α=0.1\n",
    "\n",
    "C. Fail to reject H0, since the p-value is equal to 0.245, which is greater than α=0.1\n",
    "\n",
    "D. Fail to reject H0, since the p-value is equal to 0.101, which is greater than α=0.1"
   ]
  },
  {
   "cell_type": "code",
   "execution_count": 12,
   "metadata": {
    "collapsed": false
   },
   "outputs": [
    {
     "data": {
      "text/html": [
       "0.183888832530364"
      ],
      "text/latex": [
       "0.183888832530364"
      ],
      "text/markdown": [
       "0.183888832530364"
      ],
      "text/plain": [
       "[1] 0.1838888"
      ]
     },
     "metadata": {},
     "output_type": "display_data"
    }
   ],
   "source": [
    "1-pbinom(5-1,300,0.01)\n",
    "# choose B"
   ]
  },
  {
   "cell_type": "markdown",
   "metadata": {},
   "source": [
    "Problem 8. \n",
    "\n",
    "You decide to conduct a statistical analysis of a lottery to determine how many possible lottery combinations there were. If there are N possible lottery combinations, each person has a 1/N chance of winning. Suppose that 413,271,201 people played the lottery and three people won. You are told that the number of lottery combinations is a multiple of 100 million and less than 1 billion, but have no other prior information to go on. What is the posterior probability that there were fewer than 600 million lottery combinations?\n",
    "\n",
    "A. 0.269\n",
    "\n",
    "B. 0.390\n",
    "\n",
    "C. 0.511\n",
    "\n",
    "D. 0.894"
   ]
  },
  {
   "cell_type": "code",
   "execution_count": 23,
   "metadata": {
    "collapsed": false
   },
   "outputs": [
    {
     "data": {
      "text/html": [
       "0.893815350470822"
      ],
      "text/latex": [
       "0.893815350470822"
      ],
      "text/markdown": [
       "0.893815350470822"
      ],
      "text/plain": [
       "[1] 0.8938154"
      ]
     },
     "metadata": {},
     "output_type": "display_data"
    }
   ],
   "source": [
    "p<-1:9\n",
    "p<-10^-8/p\n",
    "p_model<-1/9\n",
    "p_data_model<-dbinom(3, 413271201, p)\n",
    "numerator<-p_model*p_data_model\n",
    "denominator<-sum(numerator)\n",
    "post_p<-numerator/denominator\n",
    "sum(post_p[1:5]) # choose all models with probability from 1 million to 5 million\n",
    "# choose D"
   ]
  },
  {
   "cell_type": "markdown",
   "metadata": {},
   "source": [
    "Problem 8:\n",
    "\n",
    "In the NFL, a professional American football league, there are 32 teams, of which 12 make the playoffs. In a typical season, 20 teams (the ones that don’t make the playoffs) play 16 games, 4 teams play 17 games, 6 teams play 18 games, and 2 teams play 19 games. At the beginning of each game, a coin is flipped to determine who gets the football first. You are told that an unknown team won ten of its coin flips last season. Given this information, what is the posterior probability that the team did not make the playoffs (i.e. played 16 games)?\n",
    "\n",
    "A. 0.556\n",
    "\n",
    "B. 0.589\n",
    "\n",
    "C. 0.612\n",
    "\n",
    "D. 0.625"
   ]
  },
  {
   "cell_type": "code",
   "execution_count": 13,
   "metadata": {
    "collapsed": false
   },
   "outputs": [
    {
     "data": {
      "text/html": [
       "<ol class=list-inline>\n",
       "\t<li>0.556521739130435</li>\n",
       "\t<li>0.135155279503106</li>\n",
       "\t<li>0.228074534161491</li>\n",
       "\t<li>0.0802484472049689</li>\n",
       "</ol>\n"
      ],
      "text/latex": [
       "\\begin{enumerate*}\n",
       "\\item 0.556521739130435\n",
       "\\item 0.135155279503106\n",
       "\\item 0.228074534161491\n",
       "\\item 0.0802484472049689\n",
       "\\end{enumerate*}\n"
      ],
      "text/markdown": [
       "1. 0.556521739130435\n",
       "2. 0.135155279503106\n",
       "3. 0.228074534161491\n",
       "4. 0.0802484472049689\n",
       "\n",
       "\n"
      ],
      "text/plain": [
       "[1] 0.55652174 0.13515528 0.22807453 0.08024845"
      ]
     },
     "metadata": {},
     "output_type": "display_data"
    }
   ],
   "source": [
    "team<-c(16,17,18,19)\n",
    "like<-dbinom(10,team,0.5)\n",
    "pri<-c(20,4,6,2)\n",
    "pri*like/sum(pri*like)\n",
    "\n",
    "# choose A=0.556"
   ]
  },
  {
   "cell_type": "markdown",
   "metadata": {},
   "source": [
    "Problem 9. \n",
    "\n",
    "You are testing dice for a casino to make sure that sixes do not come up more frequently than expected. Because you do not want to manually roll dice all day, you design a machine to roll a die repeatedly and record the number of sixes that come face up. In order to do a Bayesian analysis to test the hypothesis that p = 1/6 versus p = .175 , you set the machine to roll the die 6000 times. When you come back at the end of the day, you discover to your horror that the machine was unable to count higher than 999. The machine says that 999 sixes occurred. Given a prior probability of 0.8 placed on the hypothesis p = 1/6 , what is the posterior probability that the die is fair, given the censored data? \n",
    "\n",
    "Hint - to find the probability that at least x sixes occurred in N trials with proportion p (which is the likelihood in this problem), use the R command : 1-pbinom(x-1,N,p)\n",
    "\n",
    "A. 0.500\n",
    "\n",
    "B. 0.684\n",
    "\n",
    "C. 0.800\n",
    "\n",
    "D. 0.881"
   ]
  },
  {
   "cell_type": "code",
   "execution_count": 35,
   "metadata": {
    "collapsed": false
   },
   "outputs": [
    {
     "data": {
      "text/html": [
       "0.683740458471239"
      ],
      "text/latex": [
       "0.683740458471239"
      ],
      "text/markdown": [
       "0.683740458471239"
      ],
      "text/plain": [
       "[1] 0.6837405"
      ]
     },
     "metadata": {},
     "output_type": "display_data"
    }
   ],
   "source": [
    "x<-999\n",
    "0.8*(1-pbinom(x-1,6000,1/6))/(0.8*(1-pbinom(x-1,6000,1/6))+0.2*(1-pbinom(x-1,6000,0.175)))\n",
    "# choose B                                                            "
   ]
  },
  {
   "cell_type": "markdown",
   "metadata": {},
   "source": [
    "Problem 9:\n",
    "\n",
    "Recall the probability distribution of a Poisson random variable X:\n",
    "\n",
    "P(X=x)=λ^xe^(−λ)/x!\n",
    "where λ is the rate parameter that equals the expected value of X.\n",
    "\n",
    "You are a professor and assign your TAs to type up a very important homework assignment. You have three TAs: David makes an average of one typo per page, Amy makes an average of two typos per page, and Joe makes an average of three typos per page. A one-page typed homework assignment is turned into your box that has ten typos! Assuming that typos follow a Poisson distribution and you have no prior knowledge about which TA typed the assignment, what is the posterior probability that the TA who typed the homework assignment was Joe?\n",
    "\n",
    "A. 0.334\n",
    "\n",
    "B. 0.547\n",
    "\n",
    "C. 0.866\n",
    "\n",
    "D. 0.954"
   ]
  },
  {
   "cell_type": "code",
   "execution_count": 11,
   "metadata": {
    "collapsed": false
   },
   "outputs": [
    {
     "data": {
      "text/html": [
       "<ol class=list-inline>\n",
       "\t<li>0.00011948685146756</li>\n",
       "\t<li>0.0450117182927068</li>\n",
       "\t<li>0.954868794855826</li>\n",
       "</ol>\n"
      ],
      "text/latex": [
       "\\begin{enumerate*}\n",
       "\\item 0.00011948685146756\n",
       "\\item 0.0450117182927068\n",
       "\\item 0.954868794855826\n",
       "\\end{enumerate*}\n"
      ],
      "text/markdown": [
       "1. 0.00011948685146756\n",
       "2. 0.0450117182927068\n",
       "3. 0.954868794855826\n",
       "\n",
       "\n"
      ],
      "text/plain": [
       "[1] 0.0001194869 0.0450117183 0.9548687949"
      ]
     },
     "metadata": {},
     "output_type": "display_data"
    }
   ],
   "source": [
    "num<-c(dpois(x=10,lambda = 1),dpois(x=10,lambda = 2),dpois(x=10,lambda = 3))\n",
    "denom<-sum(num)\n",
    "num/denom\n",
    "\n",
    "# choose D 0.955"
   ]
  },
  {
   "cell_type": "markdown",
   "metadata": {},
   "source": [
    "Problem 10: \n",
    "\n",
    "True or False: As long as the prior places non-zero probability on all possible values of a proportion, the posterior of the proportion is guaranteed to converge to the true proportion as the sample size approaches infinity.\n",
    "\n",
    "A. True\n",
    "\n",
    "B. False"
   ]
  },
  {
   "cell_type": "code",
   "execution_count": 36,
   "metadata": {
    "collapsed": true
   },
   "outputs": [],
   "source": [
    "# choose A TRUE"
   ]
  },
  {
   "cell_type": "code",
   "execution_count": null,
   "metadata": {
    "collapsed": true
   },
   "outputs": [],
   "source": []
  }
 ],
 "metadata": {
  "kernelspec": {
   "display_name": "R 3.3",
   "language": "R",
   "name": "ir33"
  },
  "language_info": {
   "codemirror_mode": "r",
   "file_extension": ".r",
   "mimetype": "text/x-r-source",
   "name": "R",
   "pygments_lexer": "r",
   "version": "3.3.0"
  }
 },
 "nbformat": 4,
 "nbformat_minor": 0
}
