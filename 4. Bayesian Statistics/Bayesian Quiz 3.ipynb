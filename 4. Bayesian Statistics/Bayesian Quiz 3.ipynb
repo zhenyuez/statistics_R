{
 "cells": [
  {
   "cell_type": "markdown",
   "metadata": {},
   "source": [
    "Problem 1:\n",
    "\n",
    "For which of the following situations would a 0/1 loss function make the most sense?\n",
    "\n",
    "A. Your prediction as to whether it will rain tomorrow.\n",
    "\n",
    "B. Your estimate of the market price of your house.\n",
    "\n",
    "C. Your answer choice on a Coursera multiple choice quiz.\n",
    "\n",
    "D. Your prediction for the number of bikes sold this year by a local bike shop."
   ]
  },
  {
   "cell_type": "code",
   "execution_count": 1,
   "metadata": {
    "collapsed": true
   },
   "outputs": [],
   "source": [
    "# choose C, make no loss if predict wrong or right\n",
    "# if quadratic loss, choose house price or \n",
    "# A doctor's estimate for the life expectancy of a terminally ill patient."
   ]
  },
  {
   "cell_type": "markdown",
   "metadata": {},
   "source": [
    "Problem 2:\n",
    "\n",
    "Fill in the blank: Under a quadratic loss function, the summary statistic that minimizes the posterior expected loss is the ⎯⎯⎯⎯⎯⎯⎯⎯⎯⎯⎯⎯⎯ of the posterior.\n",
    "\n",
    "Median\n",
    "\n",
    "Mean\n",
    "\n",
    "Mode"
   ]
  },
  {
   "cell_type": "code",
   "execution_count": 1,
   "metadata": {
    "collapsed": true
   },
   "outputs": [],
   "source": [
    "# Choose B mean"
   ]
  },
  {
   "cell_type": "markdown",
   "metadata": {},
   "source": [
    "Problem 3:\n",
    "\n",
    "You are employed in the Human Resources department of a company and are asked to predict the number of employees that will quit their jobs in the coming year. Based on a Bayesian analysis of historical data, you determine the posterior predictive distribution of the number of quitters to follow a Poisson(λ=10) distribution. Given a quadratic loss function, what is the prediction that minimizes posterior expected loss?\n",
    "\n",
    "a. 9\n",
    "\n",
    "b. 10\n",
    "\n",
    "c. 11\n",
    "\n",
    "d. Either a or b"
   ]
  },
  {
   "cell_type": "code",
   "execution_count": 4,
   "metadata": {
    "collapsed": true
   },
   "outputs": [],
   "source": [
    "# choose B 10, since quadratic loss function, minimize at mean, mean of poisson is at lam=10 \n",
    "# Given a 0/1 loss function, what is the prediction that minimizes posterior expected loss?\n",
    "# mode of poisson is 9 or 10, choose d"
   ]
  },
  {
   "cell_type": "markdown",
   "metadata": {},
   "source": [
    "Problem 4:\n",
    "\n",
    "Suppose that you are trying to decide whether a coin is biased towards heads (p=0.75) or tails (p=0.25). If you decide incorrectly, you incur a loss of 10. Flipping another coin incurs a cost of 1. If your current posterior probability of a head-biased coin is 0.6, should you make the decision now or flip another coin and then decide?\n",
    "\n",
    "A. Make the decision now, since the minimum posterior expected loss of making the decision now is 4, while the minimum posterior expected loss of making the decision after seeing another coin flip is between 4 and 5.\n",
    "\n",
    "B. Make the decision now, since the minimum posterior expected loss of making the decision now is 4, while the minimum posterior expected loss of making the decision after seeing another coin flip is between 5 and 6.\n",
    "\n",
    "C. Flip another coin, since the minimum posterior expected loss of making the decision now is 4, while the minimum posterior expected loss of making the decision after seeing another coin flip is between 3 and 4.\n",
    "\n",
    "D. Flip another coin, since the minimum posterior expected loss of making the decision now is 4, while the minimum posterior expected loss of making the decision after seeing another coin flip is between 2 and 3."
   ]
  },
  {
   "cell_type": "code",
   "execution_count": 10,
   "metadata": {
    "collapsed": true
   },
   "outputs": [],
   "source": [
    "#    p= 3/4,  1/4\n",
    "# P_m=  0.6,  0.4\n",
    "# L(d1)=10*0.4\n",
    "# L(d2)=10*0.6 choose d1, loss is 4.\n",
    "# add second flip.\n",
    "# if flip is head, likelyhood 3/4, 1/4, thus P_m=4/22, 18/22, min is 1.8+1=2.8 #choose D min=2.8\n",
    "# if flip is tail, likelyhood 1/4, 3/4, thus P_m=1/3,  2/3, min is 3.3+1=4.3 "
   ]
  },
  {
   "cell_type": "markdown",
   "metadata": {},
   "source": [
    "Suppose you are testing a new drug to determine whether it is more effective than an existing drug. Let H0 denote the hypothesis that the new drug is no more effective than the existing drug and H1 denote the hypothesis that the new drug is more effective than the existing drug. If you accept H1 when in fact H0 is true, the loss is 100. If you accept H0 when in fact H1 is true, the loss is 40. Assume that no loss is incurred if you accept a true hypothesis. At what posterior probability of H0 will you be indifferent between the two hypotheses?\n",
    "\n",
    "2/7\n",
    "\n",
    "1/3\n",
    "\n",
    "1/4\n",
    "\n",
    "2/5"
   ]
  },
  {
   "cell_type": "code",
   "execution_count": null,
   "metadata": {
    "collapsed": true
   },
   "outputs": [],
   "source": [
    "#    H0, H1\n",
    "# P= x,  1-x\n",
    "# L(d0)=100*(1-x)\n",
    "# L(d1)=40*x\n",
    "# solve L(d0)=L(d1)\n",
    "# x=2/7 choose A"
   ]
  },
  {
   "cell_type": "markdown",
   "metadata": {},
   "source": [
    "Problem 5:\n",
    "\n",
    "You are testing a hypothesis H1 against an alternative hypothesis H2 using Bayes Factors. You calculate BF[H1:H2] to be 42.7. According to guidelines first given by Jeffreys (and presented in the lecture), what conclusion can be drawn from the data?\n",
    "\n",
    "The data provides strong evidence against H1.\n",
    "\n",
    "The data provides decisive evidence against H1.\n",
    "\n",
    "The data provides strong evidence against H2.\n",
    "\n",
    "The data provides decisive evidence against H2."
   ]
  },
  {
   "cell_type": "code",
   "execution_count": 5,
   "metadata": {
    "collapsed": true
   },
   "outputs": [],
   "source": [
    "# 42.7>30, strong evidence againts H2"
   ]
  },
  {
   "cell_type": "markdown",
   "metadata": {},
   "source": [
    "Problem 6:\n",
    "\n",
    "Suppose that you are trying to estimate the true proportion p of male births in the United States. Starting with a uniform prior (Beta(1,1)) on p, you randomly sample 10,000 birth certificates, observing 5029 males and 4971 females. What is the posterior probability that p is less than or equal to 0.5?\n",
    "\n",
    "0.27\n",
    "\n",
    "0.28\n",
    "\n",
    "0.29\n",
    "\n",
    "0.30"
   ]
  },
  {
   "cell_type": "code",
   "execution_count": 11,
   "metadata": {
    "collapsed": false
   },
   "outputs": [
    {
     "data": {
      "text/html": [
       "0.280968168086964"
      ],
      "text/latex": [
       "0.280968168086964"
      ],
      "text/markdown": [
       "0.280968168086964"
      ],
      "text/plain": [
       "[1] 0.2809682"
      ]
     },
     "metadata": {},
     "output_type": "display_data"
    },
    {
     "data": {
      "text/html": [
       "0.290121252016099"
      ],
      "text/latex": [
       "0.290121252016099"
      ],
      "text/markdown": [
       "0.290121252016099"
      ],
      "text/plain": [
       "[1] 0.2901213"
      ]
     },
     "metadata": {},
     "output_type": "display_data"
    }
   ],
   "source": [
    "pbeta(0.5,5029+1,4971+1) # choose B\n",
    "pbeta(0.5,5029+500,4971+500)"
   ]
  },
  {
   "cell_type": "markdown",
   "metadata": {},
   "source": [
    "Problem 7:\n",
    "\n",
    "True or False: A Bayesian hypothesis test for a mean μ=0 using a concentrated prior on μ will yield nearly identical results to a hypothesis test with a high-variance prior μ?\n",
    "\n",
    "True\n",
    "\n",
    "False"
   ]
  },
  {
   "cell_type": "code",
   "execution_count": null,
   "metadata": {
    "collapsed": true
   },
   "outputs": [],
   "source": [
    "# When testing hypotheses using Bayes Factors, prior specification is highly important. \n",
    "# If the prior puts most of its mass on implausible values, the null model will be \n",
    "# disproportionately favored. Choose False"
   ]
  },
  {
   "cell_type": "markdown",
   "metadata": {},
   "source": [
    "Problem 8:\n",
    "\n",
    "Suppose you are trying to infer the difference in the proportion of yellow M&Ms between two bags of M&Ms. Each bag is estimated to contain roughly 30 M&Ms. To make inferences about the proportion, you draw 10 M&Ms from each bag without replacement and record the number of yellow M&Ms in each bag.\n",
    "\n",
    "Is there a problem with the experimental design? If so, what is it?\n",
    "\n",
    "There is no problem with the experimental design.\n",
    "\n",
    "Yes, the probability of drawing a yellow M&M is not independent between groups.\n",
    "\n",
    "Yes, the probability of drawing a yellow M&M is not independent within groups."
   ]
  },
  {
   "cell_type": "code",
   "execution_count": null,
   "metadata": {
    "collapsed": true
   },
   "outputs": [],
   "source": [
    "# Choose C. the probability of drawing a yellow M&M is not independent within groups."
   ]
  },
  {
   "cell_type": "markdown",
   "metadata": {},
   "source": [
    "Problem 9:\n",
    "\n",
    "Suppose that when testing H0:μ=0 versus H1:μ≠0 using Bayes Factors, we get the posterior probability P(H0 | data)=0.6. Conditional on H1, the posterior mean of μ is 1.25. Under quadratic loss, what is the point estimate for μ that minimizes expected posterior loss?\n",
    "\n",
    "0\n",
    "\n",
    "0.5\n",
    "\n",
    "1\n",
    "\n",
    "1.25"
   ]
  },
  {
   "cell_type": "code",
   "execution_count": 9,
   "metadata": {
    "collapsed": false
   },
   "outputs": [
    {
     "data": {
      "text/html": [
       "0.5"
      ],
      "text/latex": [
       "0.5"
      ],
      "text/markdown": [
       "0.5"
      ],
      "text/plain": [
       "[1] 0.5"
      ]
     },
     "metadata": {},
     "output_type": "display_data"
    }
   ],
   "source": [
    "0.6*0+0.4*1.25 # choose B 0.5"
   ]
  },
  {
   "cell_type": "markdown",
   "metadata": {},
   "source": [
    "Problem 10:\n",
    "\n",
    "True or False: The use of the reference prior Beta(1/2,1/2) has little bearing on the posterior distribution of a proportion p, provided that the sample size is sufficiently large.\n",
    "\n",
    "True\n",
    "\n",
    "False"
   ]
  },
  {
   "cell_type": "code",
   "execution_count": 7,
   "metadata": {
    "collapsed": true
   },
   "outputs": [],
   "source": [
    "# Choose True"
   ]
  },
  {
   "cell_type": "markdown",
   "metadata": {
    "collapsed": true
   },
   "source": [
    "The use of the reference prior Beta(1/2,1/2) has little bearing on the results of a hypothesis test comparing p=0.5 versus p≠0.5, provided that the sample size is sufficiently large."
   ]
  },
  {
   "cell_type": "code",
   "execution_count": 2,
   "metadata": {
    "collapsed": true
   },
   "outputs": [],
   "source": [
    "# choose False\n",
    "# This prior in fact has a significant bearing on the results of the hypothesis test. \n",
    "# This is because it places most of its mass on values far from 0.5,calculating the Bayes Factor, \n",
    "# the marginal likelihood of the data given the prior will be small if the proportion of successes \n",
    "# is near 0.5, \n",
    "# particularly if the sample size is large (see problems 6 and 7 for an example of this phenomenon.)"
   ]
  },
  {
   "cell_type": "code",
   "execution_count": null,
   "metadata": {
    "collapsed": true
   },
   "outputs": [],
   "source": []
  }
 ],
 "metadata": {
  "kernelspec": {
   "display_name": "R 3.3",
   "language": "R",
   "name": "ir33"
  },
  "language_info": {
   "codemirror_mode": "r",
   "file_extension": ".r",
   "mimetype": "text/x-r-source",
   "name": "R",
   "pygments_lexer": "r",
   "version": "3.3.0"
  }
 },
 "nbformat": 4,
 "nbformat_minor": 0
}
