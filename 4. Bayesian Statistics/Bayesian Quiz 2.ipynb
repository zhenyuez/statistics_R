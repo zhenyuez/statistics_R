{
 "cells": [
  {
   "cell_type": "markdown",
   "metadata": {},
   "source": [
    "Problem 1:\n",
    "\n",
    "An obesity researcher is trying to estimate the probability that a random male between the ages of 35 and 44 weighs more than 270 pounds. In this analysis, weight is:\n",
    "\n",
    "A. A discrete random varible, since weights are often measured to the nearest pound.\n",
    "\n",
    "B. A discrete random variable, since the number of men who weigh more than 270 pounds can take on only integer values.\n",
    "\n",
    "C. A continuous random variable, since the prior probability that a random male between the ages of 35 and 44 weighs more than 270 pounds gives non-zero probability to all values between 0 and 1.\n",
    "\n",
    "D. A continuous random variable, since weight can theoretically take on any non-negative value in an interval."
   ]
  },
  {
   "cell_type": "code",
   "execution_count": null,
   "metadata": {
    "collapsed": true
   },
   "outputs": [],
   "source": [
    "# choose D"
   ]
  },
  {
   "cell_type": "markdown",
   "metadata": {},
   "source": [
    "Problem 3:\n",
    "\n",
    "You are trying to model the number of fireworks that go off per minute during a fireworks show. You decide to model this with a Poisson distribution with rate λ, imposing a Gamma prior on λ for conjugacy. You want the prior to have mean equal to 3 and standard deviation equal to 1. Which of the following priors represents your beliefs?\n",
    "\n",
    "A. Gamma(k=1,θ=3)\n",
    "\n",
    "B. Gamma(k=1/3,θ=9)\n",
    "\n",
    "C. Gamma(k=3,θ=1)\n",
    "\n",
    "D. Gamma(k=9,θ=1/3)"
   ]
  },
  {
   "cell_type": "code",
   "execution_count": 1,
   "metadata": {
    "collapsed": true
   },
   "outputs": [],
   "source": [
    "#k*the=3\n",
    "#sqrt(k)*the=1\n",
    "k<-9\n",
    "the<-1/3"
   ]
  },
  {
   "cell_type": "markdown",
   "metadata": {},
   "source": [
    "Problem 4:\n",
    "\n",
    "If John is trying to perform a Bayesian analysis to make inferences about the proportion of defective electric toothbrushes, which of the following distributions represents the a conjugate prior for the proportion p ?\n",
    "\n",
    "Beta\n",
    "\n",
    "Poisson\n",
    "\n",
    "Gamma\n",
    "\n",
    "Normal"
   ]
  },
  {
   "cell_type": "code",
   "execution_count": 3,
   "metadata": {
    "collapsed": true
   },
   "outputs": [],
   "source": [
    "#choose A beta, similar likelyhood is binom"
   ]
  },
  {
   "cell_type": "markdown",
   "metadata": {},
   "source": [
    "Problem 4:\n",
    "\n",
    "If you are told that the prior for parameter θ has a distribution from family A and that it is conjugate to the likelihood from family B, then to which distribution family will the posterior belong?\n",
    "\n",
    "A. We need to know more about the two distributions.\n",
    " \n",
    "B. The posterior will belong to the A family.\n",
    "\n",
    "C. The posterior will belong to the B family."
   ]
  },
  {
   "cell_type": "code",
   "execution_count": null,
   "metadata": {
    "collapsed": true
   },
   "outputs": [],
   "source": [
    "# choose B"
   ]
  },
  {
   "cell_type": "markdown",
   "metadata": {},
   "source": [
    "Problem 5:\n",
    "\n",
    "You are hired as a data analyst by politician A. She wants to know the proportion of people in Metrocity who favor her over politician B. From previous poll numbers, you place a Beta(40,60) prior on the proportion. From polling 200 randomly sampled people in Metrocity, you find that 103 people prefer politician A to politician B. What is the posterior distribution of the proportion of voters who favor politician A?\n",
    "\n",
    "Beta(142, 156)\n",
    "\n",
    "Beta(163, 137)\n",
    "\n",
    "Beta(103, 97)\n",
    "\n",
    "Beta(143, 157)"
   ]
  },
  {
   "cell_type": "code",
   "execution_count": 16,
   "metadata": {
    "collapsed": false
   },
   "outputs": [],
   "source": [
    "# Beta(40+103,60+97) Choose D"
   ]
  },
  {
   "cell_type": "markdown",
   "metadata": {},
   "source": [
    "What is the posterior probability that the majority of people prefer politician A to politican B (i.e. P(p>0.5|data))?\n",
    "\n",
    "0.198\n",
    "0.209\n",
    "0.664\n",
    "0.934"
   ]
  },
  {
   "cell_type": "code",
   "execution_count": 15,
   "metadata": {
    "collapsed": false
   },
   "outputs": [
    {
     "data": {
      "text/html": [
       "0.209095950155795"
      ],
      "text/latex": [
       "0.209095950155795"
      ],
      "text/markdown": [
       "0.209095950155795"
      ],
      "text/plain": [
       "[1] 0.209096"
      ]
     },
     "metadata": {},
     "output_type": "display_data"
    }
   ],
   "source": [
    "1-pbeta(0.5,143,157) # choose B"
   ]
  },
  {
   "cell_type": "markdown",
   "metadata": {},
   "source": [
    "Problem 6:\n",
    "\n",
    "An engineer has just finished building a new production line for manufacturing widgets. They have no idea how likely this process is to produce defective widgets so they plan to run two separate runs of 15 widgets each. The first run produces 3 defective widgets and the second 5 defective widgets.\n",
    "\n",
    "We represent our lack of apriori knowledge of the probability of producing a defective widgets, p, using a flat, uninformative prior -Beta(1,1). What should the posterior distribution of p be after the first run is finished? And after the second?\n",
    "\n",
    "After the first run, Beta(4,13). After the second run, Beta(9,23).\n",
    "\n",
    "After the first run, Beta(3,12). After the second run, Beta(8,22).\n",
    "\n",
    "After the first run, Beta(3,12). After the second run, Beta(5,10).\n",
    "\n",
    "After the first run, Beta(4,13). After the second run, Beta(6,11)."
   ]
  },
  {
   "cell_type": "code",
   "execution_count": 6,
   "metadata": {
    "collapsed": true
   },
   "outputs": [],
   "source": [
    "# beta(1,1)->beta(1+3,1+12)->beta(4+5,13+10)\n",
    "# choose A"
   ]
  },
  {
   "cell_type": "markdown",
   "metadata": {},
   "source": [
    "Problem 7:\n",
    "\n",
    "Suppose we are interested in modeling the number of airline passenger deaths per year, assuming that the number of deaths follows a Poisson distribution. If we observe data for one year, record a total of 761 deaths, and find that our posterior distribution of the annual rate of passenger deaths λ is Gamma(862,12/13), what was our conjugate prior distribution?\n",
    "\n",
    "Gamma(761, 1)\n",
    "\n",
    "Gamma(100, 13)\n",
    "\n",
    "Gamma(101,12)\n",
    "\n",
    "Gamma(862, 1)"
   ]
  },
  {
   "cell_type": "code",
   "execution_count": 8,
   "metadata": {
    "collapsed": false
   },
   "outputs": [],
   "source": [
    "# k,the\n",
    "# k<-862-761=101\n",
    "# the/(the+1)=12/13\n",
    "# the<-12\n",
    "# Choose C, Gamma(101,12)"
   ]
  },
  {
   "cell_type": "markdown",
   "metadata": {},
   "source": [
    "Problem 8:\n",
    "\n",
    "Suppose that a miner finds a gold nugget and wants to know the weight of the nuggets in order to assess its value. The miner believes the nugget to be roughly 200 grams, although she is uncertain about this quantity, so she puts a standard deviation of 50 grams on her estimate. She weighs the nuggets on a scale which is known to weigh items with standard deviation 2 grams. The scale measures the nugget at 149.3 grams. What distribution summarizes the posterior beliefs of the miner?\n",
    "\n",
    "Normal(149.38,1.9982)\n",
    "\n",
    "Normal(149.56,1.9982)\n",
    "\n",
    "Normal(149.3,22)\n",
    "\n",
    "Normal(151.25,1.3872)"
   ]
  },
  {
   "cell_type": "code",
   "execution_count": 12,
   "metadata": {
    "collapsed": false
   },
   "outputs": [
    {
     "data": {
      "text/html": [
       "149.380990415335"
      ],
      "text/latex": [
       "149.380990415335"
      ],
      "text/markdown": [
       "149.380990415335"
      ],
      "text/plain": [
       "[1] 149.381"
      ]
     },
     "metadata": {},
     "output_type": "display_data"
    },
    {
     "data": {
      "text/html": [
       "1.99840191744358"
      ],
      "text/latex": [
       "1.99840191744358"
      ],
      "text/markdown": [
       "1.99840191744358"
      ],
      "text/plain": [
       "[1] 1.998402"
      ]
     },
     "metadata": {},
     "output_type": "display_data"
    }
   ],
   "source": [
    "sig<-2\n",
    "\n",
    "(200*sig^2+149.3*50^2)/(sig^2+50^2)\n",
    "sqrt(sig^2*50^2/(sig^2+50^2))\n",
    "# choose A"
   ]
  },
  {
   "cell_type": "markdown",
   "metadata": {},
   "source": [
    "Problem 9:\n",
    "\n",
    "True or False: When constructing a 95% credible interval, a good rule of thumb is to use the shortest of all such intervals.\n",
    "\n",
    "True\n",
    "\n",
    "False"
   ]
  },
  {
   "cell_type": "code",
   "execution_count": null,
   "metadata": {
    "collapsed": true
   },
   "outputs": [],
   "source": [
    "# choose TRUE"
   ]
  },
  {
   "cell_type": "markdown",
   "metadata": {},
   "source": [
    "Problem 9:\n",
    "\n",
    "A scientist is interested in estimating the average weight of male golden hamsters. They decide to use a Bayesian approach to estimate μ by creating a credible interval using a weakly informative prior. The posterior distribution gives a 95% credible interval spanning 3.3 - 4.0 oz. According to this model, what is the probability that μ does not fall within this range?\n",
    "\n",
    "2.5%\n",
    "\n",
    "5%\n",
    "\n",
    "95%\n",
    "\n",
    "Either 0 or 1 since μ is fixed, and must either be inside or outside the interval"
   ]
  },
  {
   "cell_type": "code",
   "execution_count": 17,
   "metadata": {
    "collapsed": true
   },
   "outputs": [],
   "source": [
    "# choose B 5%"
   ]
  },
  {
   "cell_type": "markdown",
   "metadata": {},
   "source": [
    "Problem 10:\n",
    "\n",
    "Suppose you are given a coin and told that the die is either biased towards heads (p = 0.75 ) or biased towards tails (p = 0.25 ). Since you have no prior knowledge abou the bias of the coin, you place a prior probability of 0.5 on the outcome that the coin is biased towards heads. You flip the coin twice and it comes up tails both times. What is the posterior probability that your next flip will be heads?\n",
    "\n",
    "3/10\n",
    "\n",
    "3/8\n",
    "\n",
    "1/3\n",
    "\n",
    "2/5"
   ]
  },
  {
   "cell_type": "code",
   "execution_count": null,
   "metadata": {
    "collapsed": true
   },
   "outputs": [],
   "source": []
  },
  {
   "cell_type": "code",
   "execution_count": 13,
   "metadata": {
    "collapsed": false
   },
   "outputs": [
    {
     "data": {
      "text/html": [
       "<ol class=list-inline>\n",
       "\t<li>0.1</li>\n",
       "\t<li>0.9</li>\n",
       "</ol>\n"
      ],
      "text/latex": [
       "\\begin{enumerate*}\n",
       "\\item 0.1\n",
       "\\item 0.9\n",
       "\\end{enumerate*}\n"
      ],
      "text/markdown": [
       "1. 0.1\n",
       "2. 0.9\n",
       "\n",
       "\n"
      ],
      "text/plain": [
       "[1] 0.1 0.9"
      ]
     },
     "metadata": {},
     "output_type": "display_data"
    }
   ],
   "source": [
    "#     p=0.75, p=0.25\n",
    "# P_m  0.5      0.5\n",
    "#P(data|m) dbinom(0,2,0.75) dbinom(0,2,0.25)\n",
    "num<-c(dbinom(0,2,0.75), dbinom(0,2,0.25))\n",
    "denom<-sum(num)\n",
    "num/denom"
   ]
  },
  {
   "cell_type": "code",
   "execution_count": 14,
   "metadata": {
    "collapsed": false
   },
   "outputs": [
    {
     "data": {
      "text/html": [
       "0.3"
      ],
      "text/latex": [
       "0.3"
      ],
      "text/markdown": [
       "0.3"
      ],
      "text/plain": [
       "[1] 0.3"
      ]
     },
     "metadata": {},
     "output_type": "display_data"
    }
   ],
   "source": [
    "0.1*0.75+0.9*0.25"
   ]
  },
  {
   "cell_type": "markdown",
   "metadata": {},
   "source": [
    "Problem 10:\n",
    "\n",
    "Suppose you are given a die and told that the die is either fair or is loaded (it always comes up as a 6). Since most dice are not loaded, you place a prior probability of 0.8 on the outcome that the die is fair. You roll a die and it comes up as a 6. What is the posterior probability that your next roll will also be a 6?\n",
    "\n",
    "3/5\n",
    "\n",
    "4/5\n",
    "\n",
    "2/3\n",
    "\n",
    "11/15"
   ]
  },
  {
   "cell_type": "code",
   "execution_count": 19,
   "metadata": {
    "collapsed": false
   },
   "outputs": [
    {
     "data": {
      "text/html": [
       "<ol class=list-inline>\n",
       "\t<li>0.4</li>\n",
       "\t<li>0.6</li>\n",
       "</ol>\n"
      ],
      "text/latex": [
       "\\begin{enumerate*}\n",
       "\\item 0.4\n",
       "\\item 0.6\n",
       "\\end{enumerate*}\n"
      ],
      "text/markdown": [
       "1. 0.4\n",
       "2. 0.6\n",
       "\n",
       "\n"
      ],
      "text/plain": [
       "[1] 0.4 0.6"
      ]
     },
     "metadata": {},
     "output_type": "display_data"
    }
   ],
   "source": [
    "#      p=1/6,   p=1\n",
    "# P_m  0.8      0.2\n",
    "#P(data|m) dbinom(1,1,1/6) dbinom(1,1,1)\n",
    "num<-c(dbinom(1,1,1/6), dbinom(1,1,1))\n",
    "p<-c(0.8,0.2)\n",
    "denom<-sum(num*p)\n",
    "num*p/denom"
   ]
  },
  {
   "cell_type": "code",
   "execution_count": 20,
   "metadata": {
    "collapsed": false
   },
   "outputs": [
    {
     "data": {
      "text/html": [
       "0.666666666666667"
      ],
      "text/latex": [
       "0.666666666666667"
      ],
      "text/markdown": [
       "0.666666666666667"
      ],
      "text/plain": [
       "[1] 0.6666667"
      ]
     },
     "metadata": {},
     "output_type": "display_data"
    }
   ],
   "source": [
    "0.4*1/6+0.6*1"
   ]
  },
  {
   "cell_type": "code",
   "execution_count": 21,
   "metadata": {
    "collapsed": true
   },
   "outputs": [],
   "source": [
    "# choose C"
   ]
  },
  {
   "cell_type": "code",
   "execution_count": null,
   "metadata": {
    "collapsed": true
   },
   "outputs": [],
   "source": []
  }
 ],
 "metadata": {
  "kernelspec": {
   "display_name": "R 3.3",
   "language": "R",
   "name": "ir33"
  },
  "language_info": {
   "codemirror_mode": "r",
   "file_extension": ".r",
   "mimetype": "text/x-r-source",
   "name": "R",
   "pygments_lexer": "r",
   "version": "3.3.0"
  }
 },
 "nbformat": 4,
 "nbformat_minor": 0
}
