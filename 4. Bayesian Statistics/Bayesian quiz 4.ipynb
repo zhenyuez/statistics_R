{
 "cells": [
  {
   "cell_type": "markdown",
   "metadata": {},
   "source": [
    "True or False: The mean and standard deviation of the posterior distribution of a slope or intercept parameter in Bayesian linear regression is equal to the least squares estimate and corresponding standard error if the reference prior is used and normally distributed errors are assumed.\n",
    "\n",
    "True\n",
    "\n",
    "False"
   ]
  },
  {
   "cell_type": "code",
   "execution_count": 1,
   "metadata": {
    "collapsed": true
   },
   "outputs": [],
   "source": [
    "# Choose True"
   ]
  },
  {
   "cell_type": "markdown",
   "metadata": {},
   "source": [
    "In a Bayesian simple linear regression y∼N(α+xβ,σ2)\n",
    "Suppose our priors on the parameters α,β,σ2 are independent and that the prior on β is N(0,1). How will the posterior mean of β compare to least squares estimate of β?\n",
    "\n",
    "The mean of the posterior distribution of β will be equal to the least squares estimate.\n",
    "\n",
    "The mean of the posterior distribution of β will be closer to zero than the least squares estimate.\n",
    "\n",
    "The mean of the posterior distribution of β will be higher than the least squares estimate.\n",
    "\n",
    "The mean of the posterior distribution of β will be lower than the least squares estimate."
   ]
  },
  {
   "cell_type": "code",
   "execution_count": 16,
   "metadata": {
    "collapsed": true
   },
   "outputs": [],
   "source": [
    "# By imposing a prior on β with mean 0 and variance 1 the posterior will be a mixture \n",
    "# of this prior and likelihood, as such the posterior mean will be at least slightly \n",
    "# pulled closer to the prior mean than the least squares estimate, which uses only the \n",
    "# likelihood to estimate β.\n",
    "\n",
    "# choose B, \"The mean of the posterior distribution of β will be closer to zero than \n",
    "# the least squares estimate.\""
   ]
  },
  {
   "cell_type": "markdown",
   "metadata": {},
   "source": [
    "A simple linear model (either Bayesian or frequentist) that tries to predict an individual's height from his/her age is unlikely to perform well, since human growth rates are non-linear with regard to age. Specifically, humans tend to grow quickly early in life, stop growing at through most of adulthood, and sometimes shrink somewhat when they get old. Which of the following modifications to a simple linear regression model should you prefer?\n",
    "\n",
    "Imposing strong prior distributions on the parameters in a Bayesian analysis.\n",
    "\n",
    "Including terms of age2 and or log(age) as covariates in the model.\n",
    "\n",
    "Including other relevant covariates such as weight or income.\n",
    "\n",
    "Log-transforming the dependent variable (height) to account for skewness."
   ]
  },
  {
   "cell_type": "code",
   "execution_count": 2,
   "metadata": {
    "collapsed": true
   },
   "outputs": [],
   "source": [
    "# choose add features like age^2 and log(age)"
   ]
  },
  {
   "cell_type": "markdown",
   "metadata": {},
   "source": [
    " Suppose we want to set a level k such that if we observe a data point more than k standard deviations away from the mean, we deem it an outlier. If the number of observations is 1000, what is the probability that we observe an outlier at least 4 standard deviations away from its prediction value?\n",
    "\n",
    "0.03\n",
    "\n",
    "0.06\n",
    "\n",
    "0.12\n",
    "\n",
    "0.24"
   ]
  },
  {
   "cell_type": "code",
   "execution_count": 6,
   "metadata": {
    "collapsed": false
   },
   "outputs": [
    {
     "data": {
      "text/html": [
       "0.06334248366624"
      ],
      "text/latex": [
       "0.06334248366624"
      ],
      "text/markdown": [
       "0.06334248366624"
      ],
      "text/plain": [
       "[1] 0.06334248"
      ]
     },
     "metadata": {},
     "output_type": "display_data"
    }
   ],
   "source": [
    "(2*(1-pnorm(4)))*1000 #choose B"
   ]
  },
  {
   "cell_type": "markdown",
   "metadata": {},
   "source": [
    "Suppose we use Bayesian methods (with a prior distribution) to fit a linear model in order to predict the final sale price of a home based on quantifiable attributes of the home. If the 95% posterior predictive interval of a new home (not in the data set) is (312,096, 392,097), which of the following statements represents a correct interpretation of this interval?\n",
    "\n",
    "The probability that the house will sell for between 312,096 and 392,097 is 0.95.\n",
    "\n",
    "95% of houses with the same attributes as this house have will be sold for prices between 312.096 and 392,097.\n",
    "\n",
    "This house would be sold for between 312,096 and 392,097 95% of the time.\n",
    "\n",
    "95% of houses with the same attributes as this house have historically sold for prices between 312.096 and 392,097."
   ]
  },
  {
   "cell_type": "code",
   "execution_count": 8,
   "metadata": {
    "collapsed": true
   },
   "outputs": [],
   "source": [
    "# choose \"The probability that the house will sell for between 312,096 and 392,097 is 0.95.\""
   ]
  },
  {
   "cell_type": "markdown",
   "metadata": {},
   "source": [
    "Which of the following goes into the calculation of the Bayesian Information Criterion (BIC)?\n",
    "\n",
    "The maximum value of the log-likelihood under the current model and the number of parameters in the model.\n",
    "\n",
    "The maximum value of the log-likelihood under the current model.\n",
    "\n",
    "The maximum value of the log-likelihood under the current model, a constant penalty, and the number of parameters in the model.\n",
    "\n",
    "The maximum value of the log-likelihood under the current model, the sample size, and the number of parameters in the model."
   ]
  },
  {
   "cell_type": "code",
   "execution_count": 9,
   "metadata": {
    "collapsed": true
   },
   "outputs": [],
   "source": [
    "# choose max likelyhood, sample size n, # of parameters"
   ]
  },
  {
   "cell_type": "markdown",
   "metadata": {},
   "source": [
    "In a linear model with an intercept term (that is always included) and 3 potential predictors, how many possible models are there?\n",
    "\n",
    "3\n",
    "\n",
    "4\n",
    "\n",
    "8\n",
    "\n",
    "16"
   ]
  },
  {
   "cell_type": "code",
   "execution_count": 10,
   "metadata": {
    "collapsed": false
   },
   "outputs": [
    {
     "data": {
      "text/html": [
       "8"
      ],
      "text/latex": [
       "8"
      ],
      "text/markdown": [
       "8"
      ],
      "text/plain": [
       "[1] 8"
      ]
     },
     "metadata": {},
     "output_type": "display_data"
    }
   ],
   "source": [
    "2^3"
   ]
  },
  {
   "cell_type": "markdown",
   "metadata": {},
   "source": [
    "Can Bayesian model averaging be done with a large amount of predictors?\n",
    "\n",
    "Yes, it is possible to find the posterior model probabilities in closed form by using the conjugate Zellner g-prior.\n",
    "\n",
    "Yes, but Monte Carlo sampling techniques will need to be done to approximate the posterior distribution\n",
    "\n",
    "No, since it will take forever to average over 2k possible models when k is large."
   ]
  },
  {
   "cell_type": "code",
   "execution_count": 11,
   "metadata": {
    "collapsed": true
   },
   "outputs": [],
   "source": [
    "# choose \"Yes, but Monte Carlo sampling techniques will need to be done to \n",
    "# approximate the posterior distribution\""
   ]
  },
  {
   "cell_type": "markdown",
   "metadata": {},
   "source": [
    "Which of the following is not an assumption made in Bayesian multiple regression?\n",
    "\n",
    "The errors are independent.\n",
    "\n",
    "The errors have constant variance.\n",
    "\n",
    "The errors are normally distributed.\n",
    "\n",
    "The errors have positive autocorrelation."
   ]
  },
  {
   "cell_type": "code",
   "execution_count": 13,
   "metadata": {
    "collapsed": false
   },
   "outputs": [],
   "source": [
    "# choose \"The errors have positive autocorrelation.\""
   ]
  },
  {
   "cell_type": "markdown",
   "metadata": {},
   "source": [
    "Why is the Zellner g-prior useful in Bayesian model averaging?\n",
    "\n",
    "It prevents BMA from disproportionately favoring the null model as a result of the Bartlett-Lindley paradox.\n",
    "\n",
    "It helps shrink the coefficients towards 0, which is important if the variables are highly correlated.\n",
    "\n",
    "It simplifies prior elicitation down to two components, the prior mean and g."
   ]
  },
  {
   "cell_type": "code",
   "execution_count": 14,
   "metadata": {
    "collapsed": true
   },
   "outputs": [],
   "source": [
    "# choose \"It simplifies prior elicitation down to two components, the prior mean and g.\""
   ]
  },
  {
   "cell_type": "markdown",
   "metadata": {},
   "source": [
    "When selecting a single model from an ensemble of models in the case of Bayesian model averaging, which of the following selection procedures corresponds to choosing the \"highest probability model\"?\n",
    "\n",
    "Including only the coefficients with posterior model inclusion probability above 0.5\n",
    "\n",
    "Selecting the model with the highest posterior model probability.\n",
    "\n",
    "Selecting the model that generates predictions most similar to those obtained from averaging over the model space."
   ]
  },
  {
   "cell_type": "code",
   "execution_count": 15,
   "metadata": {
    "collapsed": true
   },
   "outputs": [],
   "source": [
    "# choose \"Selecting the model with the highest posterior model probability.\""
   ]
  },
  {
   "cell_type": "code",
   "execution_count": null,
   "metadata": {
    "collapsed": true
   },
   "outputs": [],
   "source": []
  }
 ],
 "metadata": {
  "kernelspec": {
   "display_name": "R 3.3",
   "language": "R",
   "name": "ir33"
  },
  "language_info": {
   "codemirror_mode": "r",
   "file_extension": ".r",
   "mimetype": "text/x-r-source",
   "name": "R",
   "pygments_lexer": "r",
   "version": "3.3.0"
  }
 },
 "nbformat": 4,
 "nbformat_minor": 0
}
